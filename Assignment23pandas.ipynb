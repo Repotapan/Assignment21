{
 "cells": [
  {
   "cell_type": "markdown",
   "id": "8db673df-496d-4963-b5d0-511cf6713b46",
   "metadata": {},
   "source": [
    "Q1. Create a Pandas Series that contains the following data: 4, 8, 15, 16, 23, and 42. Then, print the series?"
   ]
  },
  {
   "cell_type": "code",
   "execution_count": 2,
   "id": "0cc60f44-f92d-4176-9734-e813bec03cf7",
   "metadata": {},
   "outputs": [
    {
     "name": "stdout",
     "output_type": "stream",
     "text": [
      "0     4\n",
      "1     8\n",
      "2    25\n",
      "3    16\n",
      "4    23\n",
      "5    42\n",
      "dtype: int64\n"
     ]
    }
   ],
   "source": [
    "import pandas as pd\n",
    "data=[4,8,25,16,23,42]\n",
    "series=pd.Series(data)\n",
    "print(series)\n"
   ]
  },
  {
   "cell_type": "markdown",
   "id": "0a1a8572-5435-44c0-a546-47842426864c",
   "metadata": {},
   "source": [
    "Q2. Create a variable of list type containing 10 elements in it, and apply pandas.Series function on the\n",
    "variable print it?"
   ]
  },
  {
   "cell_type": "code",
   "execution_count": 15,
   "id": "2b148267-595e-42c5-a885-57b7444181ba",
   "metadata": {},
   "outputs": [
    {
     "name": "stdout",
     "output_type": "stream",
     "text": [
      "[1, 2, 3, 4, 5, 6, 7, 8, 9, 10]\n"
     ]
    }
   ],
   "source": [
    "list=[1,2,3,4,5,6,7,8,9,10]\n",
    "series=pd.Series(list)\n",
    "print(list)\n"
   ]
  },
  {
   "cell_type": "markdown",
   "id": "1f3f2e09-5657-4d20-9dc7-2d5322a4b0e5",
   "metadata": {},
   "source": [
    "3)"
   ]
  },
  {
   "cell_type": "code",
   "execution_count": 6,
   "id": "855fb8f8-54f2-4fc4-b03c-ce269088cc15",
   "metadata": {},
   "outputs": [
    {
     "name": "stdout",
     "output_type": "stream",
     "text": [
      "     Name  Age  Gender\n",
      "0   Alice   25  Female\n",
      "1     Bob   30    Male\n",
      "2  Claire   27  Female\n"
     ]
    }
   ],
   "source": [
    "list1=[{'Name':'Alice','Age':25,'Gender':'Female'},{'Name':'Bob','Age':30,'Gender':'Male'},{'Name':'Claire','Age':27,'Gender':'Female'}]\n",
    "df=pd.DataFrame(list1)\n",
    "print(df)"
   ]
  },
  {
   "cell_type": "markdown",
   "id": "03f3abc2-1f5c-4d08-b410-42afce6de0a2",
   "metadata": {},
   "source": [
    "Q4. What is ‘DataFrame’ in pandas and how is it different from pandas.series? Explain with an example?"
   ]
  },
  {
   "cell_type": "markdown",
   "id": "b0f178be-0b10-4832-8035-08b2ccc9f9f7",
   "metadata": {},
   "source": [
    "   In Pandas, a DataFrame is a 2-dimensional labeled data structure with columns of potentially different types. It is like a spreadsheet or a SQL table, where rows represent the observations and columns represent the variables. A DataFrame can be thought of as a collection of Pandas Series, where each Series represents a column of the DataFrame.\n",
    "On the other hand, a Pandas Series is a 1-dimensional labeled array capable of holding data of any type. A Series can be thought of as a single column of data in a DataFrame.\n",
    "    Here's an example to illustrate the difference between a Pandas Series and a DataFrame:"
   ]
  },
  {
   "cell_type": "code",
   "execution_count": 7,
   "id": "594c0d20-2121-4e72-9056-8fdfd96294d6",
   "metadata": {},
   "outputs": [
    {
     "name": "stdout",
     "output_type": "stream",
     "text": [
      "SERIES\n",
      "0     1\n",
      "1     2\n",
      "2     3\n",
      "3     4\n",
      "4     5\n",
      "5     6\n",
      "6     7\n",
      "7     8\n",
      "8     9\n",
      "9    10\n",
      "Name: Numbers, dtype: int64\n",
      "\n",
      "DATA FRAME\n",
      "     Name  Age  Gender\n",
      "0   Alice   25  Female\n",
      "1     Bob   30    Male\n",
      "2  Claire   27  Female\n"
     ]
    }
   ],
   "source": [
    "series=pd.Series([1, 2, 3, 4, 5, 6, 7, 8, 9, 10],name=\"Numbers\")\n",
    "list3=[{'Name':'Alice','Age':25,'Gender':'Female'},{'Name':'Bob','Age':30,'Gender':'Male'},{'Name':'Claire','Age':27,'Gender':'Female'}]\n",
    "df=pd.DataFrame(list3)\n",
    "print(\"SERIES\")\n",
    "print(series)\n",
    "print(\"\\nDATA FRAME\")\n",
    "print(df)"
   ]
  },
  {
   "cell_type": "markdown",
   "id": "80fb7215-7237-49a3-a934-abea35ecae26",
   "metadata": {},
   "source": [
    "Q5. What are some common functions you can use to manipulate data in a Pandas DataFrame? Can\n",
    "you give an example of when you might use one of these functions?"
   ]
  },
  {
   "cell_type": "markdown",
   "id": "e900e722-2910-42b6-8e21-dca20dfea263",
   "metadata": {},
   "source": [
    "Pandas offers a wide range of functions that you can use to manipulate data in a DataFrame. Here are some common functions:\n",
    "\n",
    "1) head() and tail(): These functions allow you to view the first or last n rows of a DataFrame, respectively. For example, you can use df.head() to view the first five rows of a DataFrame named df.\n",
    "\n",
    "2) describe(): This function provides a summary of the statistical properties of each column in the DataFrame, such as the mean, standard deviation, and quartiles.\n",
    "\n",
    "3) loc[] and iloc[]: These functions allow you to slice and select specific rows and columns of the DataFrame. loc[] is used for label-based indexing, while iloc[] is used for integer-based indexing. For example, you can use df.loc[:, 'column_name'] to select all rows of a specific column named column_name.\n",
    "\n",
    "4) drop(): This function allows you to drop rows or columns from the DataFrame based on specific conditions. For example, you can use df.drop(df[df['column_name'] < 0].index) to drop all rows where the values in the column column_name are less than 0.\n",
    "\n",
    "5) groupby(): This function allows you to group the DataFrame by one or more columns and apply a function to each group. For example, you can use df.groupby('column_name').mean() to calculate the mean of each column for each unique value in the column column_name.\n",
    "\n",
    "6) merge(): This function allows you to join two or more DataFrames based on a common column. For example, you can use pd.merge(df1, df2, on='column_name') to join two DataFrames df1 and df2 on the column column_name.\n",
    "\n",
    "7) apply(): This function applies a function to each element of the DataFrame. For example, you can use df.apply(lambda x: x*2) to multiply each element of the DataFrame by 2. \n",
    "\n",
    "Here's an example of how you might use one of these functions:\n",
    "    Suppose you have a DataFrame named sales_data that contains information about sales of different products in different regions. You want to calculate the total sales for each region. You can use the groupby() function to group the DataFrame by the \"region\" column, and then apply the sum() function to calculate the total sales for each region:"
   ]
  },
  {
   "cell_type": "code",
   "execution_count": 9,
   "id": "c3d00e87-48b5-47e7-b4b5-30ef31b9ff54",
   "metadata": {},
   "outputs": [
    {
     "data": {
      "text/plain": [
       "Region\n",
       "North    450\n",
       "South    750\n",
       "Name: Sales, dtype: int64"
      ]
     },
     "execution_count": 9,
     "metadata": {},
     "output_type": "execute_result"
    }
   ],
   "source": [
    "data = {'Product': ['A', 'B', 'C', 'A', 'B', 'C'],\n",
    "        'Region': ['North', 'North', 'North', 'South', 'South', 'South'],\n",
    "        'Sales': [100, 200, 150, 250, 300, 200]}\n",
    "df=pd.DataFrame(data)\n",
    "df.groupby(\"Region\")['Sales'].sum()"
   ]
  },
  {
   "cell_type": "markdown",
   "id": "c53172c7-dd7a-48aa-a081-f4485d2addb6",
   "metadata": {},
   "source": [
    "Q6. Which of the following is mutable in nature Series, DataFrame, Panel?"
   ]
  },
  {
   "cell_type": "markdown",
   "id": "9dd61af8-c030-48f6-a730-6be01eba6cec",
   "metadata": {},
   "source": [
    "In Pandas, both Series and DataFrame are mutable objects. That means you can modify their values, add new data, or delete data in-place. On the other hand, the Panel is deprecated and no longer recommended for use. Instead, you should use the more powerful and flexible MultiIndex objects to represent higher-dimensional data in Pandas. However, if you do use the Panel object, it is also mutable.\n",
    "Here's an example to demonstrate how Series and DataFrame can be modified in-place:"
   ]
  },
  {
   "cell_type": "code",
   "execution_count": 11,
   "id": "0c87135e-c980-4748-a230-17f54af4fa26",
   "metadata": {},
   "outputs": [
    {
     "name": "stdout",
     "output_type": "stream",
     "text": [
      "modify series\n",
      "0     2\n",
      "1    25\n",
      "2    35\n",
      "3     5\n",
      "4     6\n",
      "5     7\n",
      "6     8\n",
      "7     9\n",
      "8    11\n",
      "Name: tapan, dtype: int64\n",
      "modify Dataframe\n",
      "            Name  Age  Gender\n",
      "0  Tarique Zayan   25    male\n",
      "1          tapan   23    Male\n",
      "2     FarazUncle   27  Female\n"
     ]
    }
   ],
   "source": [
    "series=pd.Series([2,3,4,5,6,7,8,9,11],name=\"tapan\")\n",
    "series[1]=25\n",
    "series[2]=35\n",
    "print(\"modify series\")\n",
    "print(series)\n",
    "list3={'Name': pd.Series(['Tarique Zayan', 'Shan-A-Alam', 'FarazUncle']),'Age':pd.Series([25,30,27]) ,'Gender':(['male','Male','Female'])}\n",
    "df=pd.DataFrame(list3)\n",
    "df.loc[1,\"Name\"]=\"tapan\"\n",
    "df.loc[1,\"Age\"]=23\n",
    "print(\"modify Dataframe\")\n",
    "print(df)"
   ]
  },
  {
   "cell_type": "markdown",
   "id": "7d0699fe-3a30-4a48-a58d-5e756796fedd",
   "metadata": {},
   "source": [
    "Q7. Create a DataFrame using multiple Series. Explain with an example?"
   ]
  },
  {
   "cell_type": "code",
   "execution_count": 18,
   "id": "3fa5aa9a-786a-4503-8422-60cf1fe0e72b",
   "metadata": {},
   "outputs": [
    {
     "name": "stdout",
     "output_type": "stream",
     "text": [
      "    Name  Age  Mark\n",
      "0  tapan   23   234\n",
      "1  kumar   24   543\n",
      "2   pati   25   367\n"
     ]
    }
   ],
   "source": [
    "name=pd.Series(['tapan','kumar','pati'])\n",
    "age=pd.Series([23,24,25])\n",
    "marks=pd.Series([234,543,367])\n",
    "data={'Name':name,'Age':age,'Mark':marks}\n",
    "df=pd.DataFrame(data)\n",
    "print(df)\n"
   ]
  },
  {
   "cell_type": "code",
   "execution_count": null,
   "id": "40402a15-414a-4b6a-80e7-e6ff657b67bd",
   "metadata": {},
   "outputs": [],
   "source": []
  }
 ],
 "metadata": {
  "kernelspec": {
   "display_name": "Python 3 (ipykernel)",
   "language": "python",
   "name": "python3"
  },
  "language_info": {
   "codemirror_mode": {
    "name": "ipython",
    "version": 3
   },
   "file_extension": ".py",
   "mimetype": "text/x-python",
   "name": "python",
   "nbconvert_exporter": "python",
   "pygments_lexer": "ipython3",
   "version": "3.10.8"
  }
 },
 "nbformat": 4,
 "nbformat_minor": 5
}
